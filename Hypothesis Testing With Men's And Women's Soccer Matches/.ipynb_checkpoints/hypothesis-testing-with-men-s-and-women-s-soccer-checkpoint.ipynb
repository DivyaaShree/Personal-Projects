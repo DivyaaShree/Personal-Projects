{
 "cells": [
  {
   "cell_type": "markdown",
   "id": "c1549af9",
   "metadata": {
    "papermill": {
     "duration": 0.005001,
     "end_time": "2024-08-11T12:04:09.878398",
     "exception": false,
     "start_time": "2024-08-11T12:04:09.873397",
     "status": "completed"
    },
    "tags": []
   },
   "source": [
    "Perform an appropriate hypothesis test to determine the p-value, and hence result, of whether to reject or fail to reject the null hypothesis that the mean number of goals scored in women's international soccer matches is the same as men's. Use a 10% significance level.\n",
    "\n",
    "For this analysis, you'll use Official FIFA World Cup matches since 2002-01-01, and you'll also assume that each match is fully independent, i.e., team form is ignored.\n",
    "\n",
    "The p-value and the result of the test must be stored in a dictionary called result_dict in the form:\n",
    "\n",
    "result_dict = {\"p_val\": p_val, \"result\": result}\n",
    "\n",
    "where p_val is the p-value and result is either the string \"fail to reject\" or \"reject\", depending on the result of the test."
   ]
  },
  {
   "cell_type": "markdown",
   "id": "3ff896ee",
   "metadata": {
    "papermill": {
     "duration": 0.004991,
     "end_time": "2024-08-11T12:04:09.888641",
     "exception": false,
     "start_time": "2024-08-11T12:04:09.883650",
     "status": "completed"
    },
    "tags": []
   },
   "source": [
    "How to approach the project\n",
    "1. Exploratory data analysis\n",
    "\n",
    "2. Filtering the data\n",
    "\n",
    "3. Choosing the correct hypothesis test\n",
    "\n",
    "4. Performing the hypothesis test\n",
    "\n",
    "5. Interpreting the result of the hypothesis test"
   ]
  },
  {
   "cell_type": "markdown",
   "id": "d6553f26",
   "metadata": {
    "papermill": {
     "duration": 0.004836,
     "end_time": "2024-08-11T12:04:09.898877",
     "exception": false,
     "start_time": "2024-08-11T12:04:09.894041",
     "status": "completed"
    },
    "tags": []
   },
   "source": [
    "Exploratory data analysis\n",
    "Load the data from men_results.csv and women_results.csv to understand its contents."
   ]
  },
  {
   "cell_type": "code",
   "execution_count": 1,
   "id": "a6c1b3bd",
   "metadata": {
    "papermill": {
     "duration": 1.332139,
     "end_time": "2024-08-11T12:04:11.236158",
     "exception": false,
     "start_time": "2024-08-11T12:04:09.904019",
     "status": "completed"
    },
    "tags": []
   },
   "outputs": [],
   "source": [
    "# Imports\n",
    "import pandas as pd\n",
    "import matplotlib.pyplot as plt\n",
    "\n",
    "from scipy.stats import mannwhitneyu\n",
    "\n",
    "# Load men's and women's datasets\n",
    "men = pd.read_csv(r\"C:\\Users\\Administrator\\Desktop\\Personal Projects\\Hypothesis Testing With Men's And Women's Soccer Matches\\dataset\\men_results.csv\")\n",
    "women = pd.read_csv(r\"C:\\Users\\Administrator\\Desktop\\Personal Projects\\Hypothesis Testing With Men's And Women's Soccer Matches\\dataset\\women_results.csv\")\n",
    "\n"
   ]
  },
  {
   "cell_type": "markdown",
   "id": "528df989",
   "metadata": {
    "papermill": {
     "duration": 0.00653,
     "end_time": "2024-08-11T12:04:11.250264",
     "exception": false,
     "start_time": "2024-08-11T12:04:11.243734",
     "status": "completed"
    },
    "tags": []
   },
   "source": [
    "Filtering the data\n",
    "Filter the data to only include official FIFA World Cup matches that took place after 2002-01-01.\n",
    "\n",
    "\n"
   ]
  },
  {
   "cell_type": "code",
   "execution_count": 2,
   "id": "c78b3e94",
   "metadata": {
    "papermill": {
     "duration": 0.067433,
     "end_time": "2024-08-11T12:04:11.322955",
     "exception": false,
     "start_time": "2024-08-11T12:04:11.255522",
     "status": "completed"
    },
    "tags": []
   },
   "outputs": [],
   "source": [
    "# Filter the data for the time range and tournament\n",
    "men[\"date\"] = pd.to_datetime(men[\"date\"])\n",
    "men_subset = men[(men[\"date\"] > \"2002-01-01\") & (men[\"tournament\"].isin([\"FIFA World Cup\"]))]\n",
    "women[\"date\"] = pd.to_datetime(women[\"date\"])\n",
    "women_subset = women[(women[\"date\"] > \"2002-01-01\") & (women[\"tournament\"].isin([\"FIFA World Cup\"]))]\n",
    "\n"
   ]
  },
  {
   "cell_type": "markdown",
   "id": "98c8b7ba",
   "metadata": {
    "papermill": {
     "duration": 0.007083,
     "end_time": "2024-08-11T12:04:11.337518",
     "exception": false,
     "start_time": "2024-08-11T12:04:11.330435",
     "status": "completed"
    },
    "tags": []
   },
   "source": [
    "Choosing the correct hypothesis test\n",
    "Use EDA to determine the appropriate hypothesis test for this dataset and scenario."
   ]
  },
  {
   "cell_type": "code",
   "execution_count": 3,
   "id": "20f87f2a",
   "metadata": {
    "papermill": {
     "duration": 0.599578,
     "end_time": "2024-08-11T12:04:11.943185",
     "exception": false,
     "start_time": "2024-08-11T12:04:11.343607",
     "status": "completed"
    },
    "tags": []
   },
   "outputs": [
    {
     "name": "stderr",
     "output_type": "stream",
     "text": [
      "C:\\Users\\Administrator\\AppData\\Local\\Temp\\ipykernel_12604\\649097559.py:2: SettingWithCopyWarning: \n",
      "A value is trying to be set on a copy of a slice from a DataFrame.\n",
      "Try using .loc[row_indexer,col_indexer] = value instead\n",
      "\n",
      "See the caveats in the documentation: https://pandas.pydata.org/pandas-docs/stable/user_guide/indexing.html#returning-a-view-versus-a-copy\n",
      "  men_subset[\"group\"] = \"men\"\n",
      "C:\\Users\\Administrator\\AppData\\Local\\Temp\\ipykernel_12604\\649097559.py:3: SettingWithCopyWarning: \n",
      "A value is trying to be set on a copy of a slice from a DataFrame.\n",
      "Try using .loc[row_indexer,col_indexer] = value instead\n",
      "\n",
      "See the caveats in the documentation: https://pandas.pydata.org/pandas-docs/stable/user_guide/indexing.html#returning-a-view-versus-a-copy\n",
      "  women_subset[\"group\"] = \"women\"\n",
      "C:\\Users\\Administrator\\AppData\\Local\\Temp\\ipykernel_12604\\649097559.py:4: SettingWithCopyWarning: \n",
      "A value is trying to be set on a copy of a slice from a DataFrame.\n",
      "Try using .loc[row_indexer,col_indexer] = value instead\n",
      "\n",
      "See the caveats in the documentation: https://pandas.pydata.org/pandas-docs/stable/user_guide/indexing.html#returning-a-view-versus-a-copy\n",
      "  men_subset[\"goals_scored\"] = men_subset[\"home_score\"] + men_subset[\"away_score\"]\n",
      "C:\\Users\\Administrator\\AppData\\Local\\Temp\\ipykernel_12604\\649097559.py:5: SettingWithCopyWarning: \n",
      "A value is trying to be set on a copy of a slice from a DataFrame.\n",
      "Try using .loc[row_indexer,col_indexer] = value instead\n",
      "\n",
      "See the caveats in the documentation: https://pandas.pydata.org/pandas-docs/stable/user_guide/indexing.html#returning-a-view-versus-a-copy\n",
      "  women_subset[\"goals_scored\"] = women_subset[\"home_score\"] + women_subset[\"away_score\"]\n"
     ]
    },
    {
     "data": {
      "image/png": "[encoded data removed]",
      "text/plain": [
       "<Figure size 640x480 with 1 Axes>"
      ]
     },
     "metadata": {},
     "output_type": "display_data"
    },
    {
     "data": {
      "image/png": "[encoded data removed]",
      "text/plain": [
       "<Figure size 640x480 with 1 Axes>"
      ]
     },
     "metadata": {},
     "output_type": "display_data"
    },
    {
     "data": {
      "text/plain": [
       "<Figure size 640x480 with 0 Axes>"
      ]
     },
     "metadata": {},
     "output_type": "display_data"
    }
   ],
   "source": [
    "# Create group and goals_scored columns\n",
    "men_subset[\"group\"] = \"men\"\n",
    "women_subset[\"group\"] = \"women\"\n",
    "men_subset[\"goals_scored\"] = men_subset[\"home_score\"] + men_subset[\"away_score\"]\n",
    "women_subset[\"goals_scored\"] = women_subset[\"home_score\"] + women_subset[\"away_score\"]\n",
    "\n",
    "# Determine normality using histograms\n",
    "men_subset[\"goals_scored\"].hist()\n",
    "plt.show()\n",
    "plt.clf()\n",
    "\n",
    "# Goals scored is not normally distributed, so use Wilcoxon-Mann-Whitney test of two groups\n",
    "men_subset[\"goals_scored\"].hist()\n",
    "plt.show()\n",
    "plt.clf()\n",
    "\n",
    "# Combine women's and men's data and calculate goals scored in each match\n",
    "both = pd.concat([women_subset, men_subset], axis=0, ignore_index=True)\n",
    "\n"
   ]
  },
  {
   "cell_type": "markdown",
   "id": "4ee2d4cd",
   "metadata": {
    "papermill": {
     "duration": 0.005865,
     "end_time": "2024-08-11T12:04:11.955221",
     "exception": false,
     "start_time": "2024-08-11T12:04:11.949356",
     "status": "completed"
    },
    "tags": []
   },
   "source": [
    "\n",
    "Performing the hypothesis test\n",
    "Once you've decided on the correct hypothesis test to perform, carry out the test to return the p-value."
   ]
  },
  {
   "cell_type": "code",
   "execution_count": 4,
   "id": "3b1dc080",
   "metadata": {
    "papermill": {
     "duration": 17.421226,
     "end_time": "2024-08-11T12:04:29.382609",
     "exception": false,
     "start_time": "2024-08-11T12:04:11.961383",
     "status": "completed"
    },
    "tags": []
   },
   "outputs": [
    {
     "name": "stdout",
     "output_type": "stream",
     "text": [
      "Collecting pingouin\n",
      "  Downloading pingouin-0.5.5-py3-none-any.whl.metadata (19 kB)\n",
      "Requirement already satisfied: matplotlib in c:\\programdata\\anaconda3\\lib\\site-packages (from pingouin) (3.9.2)\n",
      "Requirement already satisfied: numpy in c:\\programdata\\anaconda3\\lib\\site-packages (from pingouin) (1.26.4)\n",
      "Requirement already satisfied: pandas>=1.5 in c:\\programdata\\anaconda3\\lib\\site-packages (from pingouin) (2.2.2)\n",
      "Collecting pandas-flavor (from pingouin)\n",
      "  Downloading pandas_flavor-0.6.0-py3-none-any.whl.metadata (6.3 kB)\n",
      "Requirement already satisfied: scikit-learn>=1.2 in c:\\programdata\\anaconda3\\lib\\site-packages (from pingouin) (1.5.1)\n",
      "Requirement already satisfied: scipy in c:\\programdata\\anaconda3\\lib\\site-packages (from pingouin) (1.13.1)\n",
      "Requirement already satisfied: seaborn in c:\\programdata\\anaconda3\\lib\\site-packages (from pingouin) (0.13.2)\n",
      "Requirement already satisfied: statsmodels in c:\\programdata\\anaconda3\\lib\\site-packages (from pingouin) (0.14.2)\n",
      "Requirement already satisfied: tabulate in c:\\programdata\\anaconda3\\lib\\site-packages (from pingouin) (0.9.0)\n",
      "Requirement already satisfied: python-dateutil>=2.8.2 in c:\\programdata\\anaconda3\\lib\\site-packages (from pandas>=1.5->pingouin) (2.9.0.post0)\n",
      "Requirement already satisfied: pytz>=2020.1 in c:\\programdata\\anaconda3\\lib\\site-packages (from pandas>=1.5->pingouin) (2024.1)\n",
      "Requirement already satisfied: tzdata>=2022.7 in c:\\programdata\\anaconda3\\lib\\site-packages (from pandas>=1.5->pingouin) (2023.3)\n",
      "Requirement already satisfied: joblib>=1.2.0 in c:\\programdata\\anaconda3\\lib\\site-packages (from scikit-learn>=1.2->pingouin) (1.4.2)\n",
      "Requirement already satisfied: threadpoolctl>=3.1.0 in c:\\programdata\\anaconda3\\lib\\site-packages (from scikit-learn>=1.2->pingouin) (3.5.0)\n",
      "Requirement already satisfied: contourpy>=1.0.1 in c:\\programdata\\anaconda3\\lib\\site-packages (from matplotlib->pingouin) (1.2.0)\n",
      "Requirement already satisfied: cycler>=0.10 in c:\\programdata\\anaconda3\\lib\\site-packages (from matplotlib->pingouin) (0.11.0)\n",
      "Requirement already satisfied: fonttools>=4.22.0 in c:\\programdata\\anaconda3\\lib\\site-packages (from matplotlib->pingouin) (4.51.0)\n",
      "Requirement already satisfied: kiwisolver>=1.3.1 in c:\\programdata\\anaconda3\\lib\\site-packages (from matplotlib->pingouin) (1.4.4)\n",
      "Requirement already satisfied: packaging>=20.0 in c:\\programdata\\anaconda3\\lib\\site-packages (from matplotlib->pingouin) (24.1)\n",
      "Requirement already satisfied: pillow>=8 in c:\\programdata\\anaconda3\\lib\\site-packages (from matplotlib->pingouin) (10.4.0)\n",
      "Requirement already satisfied: pyparsing>=2.3.1 in c:\\programdata\\anaconda3\\lib\\site-packages (from matplotlib->pingouin) (3.1.2)\n",
      "Requirement already satisfied: xarray in c:\\programdata\\anaconda3\\lib\\site-packages (from pandas-flavor->pingouin) (2023.6.0)\n",
      "Requirement already satisfied: patsy>=0.5.6 in c:\\programdata\\anaconda3\\lib\\site-packages (from statsmodels->pingouin) (0.5.6)\n",
      "Requirement already satisfied: six in c:\\programdata\\anaconda3\\lib\\site-packages (from patsy>=0.5.6->statsmodels->pingouin) (1.16.0)\n",
      "Downloading pingouin-0.5.5-py3-none-any.whl (204 kB)\n",
      "Downloading pandas_flavor-0.6.0-py3-none-any.whl (7.2 kB)\n",
      "Installing collected packages: pandas-flavor, pingouin\n",
      "Successfully installed pandas-flavor-0.6.0 pingouin-0.5.5\n"
     ]
    }
   ],
   "source": [
    "!pip install pingouin"
   ]
  },
  {
   "cell_type": "code",
   "execution_count": 5,
   "id": "dce0053a",
   "metadata": {
    "papermill": {
     "duration": 0.753059,
     "end_time": "2024-08-11T12:04:30.143582",
     "exception": false,
     "start_time": "2024-08-11T12:04:29.390523",
     "status": "completed"
    },
    "tags": []
   },
   "outputs": [],
   "source": [
    "# Transform the data for the pingouin Mann-Whitney U t-test/Wilcoxon-Mann-Whitney test\n",
    "import pingouin\n",
    "both_subset = both[[\"goals_scored\", \"group\"]]\n",
    "both_subset_wide = both_subset.pivot(columns=\"group\", values=\"goals_scored\")\n",
    "\n",
    "# Perform right-tailed Wilcoxon-Mann-Whitney test with pingouin\n",
    "results_pg = pingouin.mwu(x=both_subset_wide[\"women\"],\n",
    "                          y=both_subset_wide[\"men\"],\n",
    "                          alternative=\"greater\")\n",
    "\n",
    "# Alternative SciPy solution: Perform right-tailed Wilcoxon-Mann-Whitney test with scipy\n",
    "results_scipy = mannwhitneyu(x=women_subset[\"goals_scored\"],\n",
    "                             y=men_subset[\"goals_scored\"],\n",
    "                             alternative=\"greater\")\n",
    "\n",
    "# Extract p-value as a float\n",
    "p_val = results_pg[\"p-val\"].values[0]\n",
    "\n"
   ]
  },
  {
   "cell_type": "markdown",
   "id": "e0f39b95",
   "metadata": {
    "papermill": {
     "duration": 0.007775,
     "end_time": "2024-08-11T12:04:30.159485",
     "exception": false,
     "start_time": "2024-08-11T12:04:30.151710",
     "status": "completed"
    },
    "tags": []
   },
   "source": [
    "\n",
    "Interpreting the result of the hypothesis test\n",
    "Interpret the p-value to determine if there is statistical significance between the two groups, assuming a 10% significance level."
   ]
  },
  {
   "cell_type": "code",
   "execution_count": 6,
   "id": "e950eff2",
   "metadata": {
    "papermill": {
     "duration": 0.020386,
     "end_time": "2024-08-11T12:04:30.188316",
     "exception": false,
     "start_time": "2024-08-11T12:04:30.167930",
     "status": "completed"
    },
    "tags": []
   },
   "outputs": [
    {
     "name": "stdout",
     "output_type": "stream",
     "text": [
      "{'p_val': 0.005106609825443641, 'result': 'reject'}\n"
     ]
    }
   ],
   "source": [
    "# Determine hypothesis test result using sig. level\n",
    "if p_val <= 0.01:\n",
    "    result = \"reject\"\n",
    "else:\n",
    "    result = \"fail to reject\"\n",
    "\n",
    "result_dict = {\"p_val\": p_val, \"result\": result}\n",
    "print(result_dict)"
   ]
  },
  {
   "cell_type": "markdown",
   "id": "7bdbe6a8",
   "metadata": {
    "papermill": {
     "duration": 0.00791,
     "end_time": "2024-08-11T12:04:30.204515",
     "exception": false,
     "start_time": "2024-08-11T12:04:30.196605",
     "status": "completed"
    },
    "tags": []
   },
   "source": []
  },
  {
   "cell_type": "code",
   "execution_count": null,
   "id": "9218eaa0-38c0-4682-9ae1-ba60af8bd41c",
   "metadata": {},
   "outputs": [],
   "source": []
  }
 ],
 "metadata": {
  "kaggle": {
   "accelerator": "none",
   "dataSources": [
    {
     "datasetId": 5528073,
     "sourceId": 9151499,
     "sourceType": "datasetVersion"
    }
   ],
   "dockerImageVersionId": 30746,
   "isGpuEnabled": false,
   "isInternetEnabled": true,
   "language": "python",
   "sourceType": "notebook"
  },
  "kernelspec": {
   "display_name": "Python 3 (ipykernel)",
   "language": "python",
   "name": "python3"
  },
  "language_info": {
   "codemirror_mode": {
    "name": "ipython",
    "version": 3
   },
   "file_extension": ".py",
   "mimetype": "text/x-python",
   "name": "python",
   "nbconvert_exporter": "python",
   "pygments_lexer": "ipython3",
   "version": "3.12.3"
  },
  "papermill": {
   "default_parameters": {},
   "duration": 25.270255,
   "end_time": "2024-08-11T12:04:30.836566",
   "environment_variables": {},
   "exception": null,
   "input_path": "__notebook__.ipynb",
   "output_path": "__notebook__.ipynb",
   "parameters": {},
   "start_time": "2024-08-11T12:04:05.566311",
   "version": "2.5.0"
  }
 },
 "nbformat": 4,
 "nbformat_minor": 5
}
