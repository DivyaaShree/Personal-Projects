{
 "cells": [
  {
   "cell_type": "markdown",
   "id": "083df03e",
   "metadata": {
    "papermill": {
     "duration": 0.003741,
     "end_time": "2024-08-10T22:55:42.065158",
     "exception": false,
     "start_time": "2024-08-10T22:55:42.061417",
     "status": "completed"
    },
    "tags": []
   },
   "source": [
    "Identify the single feature of the data that is the best predictor of whether a customer will put in a claim (the \"outcome\" column), excluding the \"id\" column.\n",
    "Store as a DataFrame called best_feature_df, containing columns named \"best_feature\" and \"best_accuracy\" with the name of the feature with the highest accuracy, and the respective accuracy score."
   ]
  },
  {
   "cell_type": "markdown",
   "id": "e22e5854",
   "metadata": {
    "papermill": {
     "duration": 0.003581,
     "end_time": "2024-08-10T22:55:42.072644",
     "exception": false,
     "start_time": "2024-08-10T22:55:42.069063",
     "status": "completed"
    },
    "tags": []
   },
   "source": [
    "How to approach the project\n",
    "1. Reading in and exploring the dataset\n",
    "\n",
    "2. Filling missing values\n",
    "\n",
    "3. Preparing for modeling\n",
    "\n",
    "4. Building and storing the models\n",
    "\n",
    "5. Measuring performance\n",
    "\n",
    "6. Finding the best performing model"
   ]
  },
  {
   "cell_type": "markdown",
   "id": "fa8cef9a",
   "metadata": {
    "papermill": {
     "duration": 0.003673,
     "end_time": "2024-08-10T22:55:42.080616",
     "exception": false,
     "start_time": "2024-08-10T22:55:42.076943",
     "status": "completed"
    },
    "tags": []
   },
   "source": [
    "1-Reading in and exploring the dataset\n",
    "Create a pandas DataFrame and examine for data types, missing values, and distributions.\n",
    "\n",
    "\n"
   ]
  },
  {
   "cell_type": "code",
   "execution_count": 3,
   "id": "38008aa2",
   "metadata": {
    "papermill": {
     "duration": 1.735127,
     "end_time": "2024-08-10T22:55:43.819796",
     "exception": false,
     "start_time": "2024-08-10T22:55:42.084669",
     "status": "completed"
    },
    "tags": []
   },
   "outputs": [
    {
     "name": "stdout",
     "output_type": "stream",
     "text": [
      "       id  age  gender driving_experience    education         income  \\\n",
      "0  569520    3       0               0-9y  high school    upper class   \n",
      "1  750365    0       1               0-9y         none        poverty   \n",
      "2  199901    0       0               0-9y  high school  working class   \n",
      "3  478866    0       1               0-9y   university  working class   \n",
      "4  731664    1       1             10-19y         none  working class   \n",
      "\n",
      "   credit_score  vehicle_ownership vehicle_year  married  children  \\\n",
      "0      0.629027                1.0   after 2015      0.0       1.0   \n",
      "1      0.357757                0.0  before 2015      0.0       0.0   \n",
      "2      0.493146                1.0  before 2015      0.0       0.0   \n",
      "3      0.206013                1.0  before 2015      0.0       1.0   \n",
      "4      0.388366                1.0  before 2015      0.0       0.0   \n",
      "\n",
      "   postal_code  annual_mileage vehicle_type  speeding_violations  duis  \\\n",
      "0        10238         12000.0        sedan                    0     0   \n",
      "1        10238         16000.0        sedan                    0     0   \n",
      "2        10238         11000.0        sedan                    0     0   \n",
      "3        32765         11000.0        sedan                    0     0   \n",
      "4        32765         12000.0        sedan                    2     0   \n",
      "\n",
      "   past_accidents  outcome  \n",
      "0               0      0.0  \n",
      "1               0      1.0  \n",
      "2               0      0.0  \n",
      "3               0      0.0  \n",
      "4               1      1.0  \n",
      "<class 'pandas.core.frame.DataFrame'>\n",
      "RangeIndex: 10000 entries, 0 to 9999\n",
      "Data columns (total 18 columns):\n",
      " #   Column               Non-Null Count  Dtype  \n",
      "---  ------               --------------  -----  \n",
      " 0   id                   10000 non-null  int64  \n",
      " 1   age                  10000 non-null  int64  \n",
      " 2   gender               10000 non-null  int64  \n",
      " 3   driving_experience   10000 non-null  object \n",
      " 4   education            10000 non-null  object \n",
      " 5   income               10000 non-null  object \n",
      " 6   credit_score         9018 non-null   float64\n",
      " 7   vehicle_ownership    10000 non-null  float64\n",
      " 8   vehicle_year         10000 non-null  object \n",
      " 9   married              10000 non-null  float64\n",
      " 10  children             10000 non-null  float64\n",
      " 11  postal_code          10000 non-null  int64  \n",
      " 12  annual_mileage       9043 non-null   float64\n",
      " 13  vehicle_type         10000 non-null  object \n",
      " 14  speeding_violations  10000 non-null  int64  \n",
      " 15  duis                 10000 non-null  int64  \n",
      " 16  past_accidents       10000 non-null  int64  \n",
      " 17  outcome              10000 non-null  float64\n",
      "dtypes: float64(6), int64(7), object(5)\n",
      "memory usage: 1.4+ MB\n",
      "None\n"
     ]
    }
   ],
   "source": [
    "# Import required modules\n",
    "import pandas as pd\n",
    "import numpy as np\n",
    "from statsmodels.formula.api import logit\n",
    "\n",
    "# Load the dataset\n",
    "car_insurance = pd.read_csv(r\"C:\\Users\\Administrator\\Desktop\\Personal Projects\\Modelling Car Insurance Claim Outcomes\\car_insurance.csv\")\n",
    "print(car_insurance.head())\n",
    "print(car_insurance.info())"
   ]
  },
  {
   "cell_type": "markdown",
   "id": "186ff396",
   "metadata": {
    "papermill": {
     "duration": 0.00422,
     "end_time": "2024-08-10T22:55:43.828472",
     "exception": false,
     "start_time": "2024-08-10T22:55:43.824252",
     "status": "completed"
    },
    "tags": []
   },
   "source": [
    "2-Filling missing values\n",
    "Prepare data for modeling by ensuring there are no missing values."
   ]
  },
  {
   "cell_type": "code",
   "execution_count": 4,
   "id": "62e3aac5",
   "metadata": {
    "papermill": {
     "duration": 0.032055,
     "end_time": "2024-08-10T22:55:43.865231",
     "exception": false,
     "start_time": "2024-08-10T22:55:43.833176",
     "status": "completed"
    },
    "tags": []
   },
   "outputs": [
    {
     "name": "stdout",
     "output_type": "stream",
     "text": [
      "<class 'pandas.core.frame.DataFrame'>\n",
      "RangeIndex: 10000 entries, 0 to 9999\n",
      "Data columns (total 18 columns):\n",
      " #   Column               Non-Null Count  Dtype  \n",
      "---  ------               --------------  -----  \n",
      " 0   id                   10000 non-null  int64  \n",
      " 1   age                  10000 non-null  int64  \n",
      " 2   gender               10000 non-null  int64  \n",
      " 3   driving_experience   10000 non-null  object \n",
      " 4   education            10000 non-null  object \n",
      " 5   income               10000 non-null  object \n",
      " 6   credit_score         10000 non-null  float64\n",
      " 7   vehicle_ownership    10000 non-null  float64\n",
      " 8   vehicle_year         10000 non-null  object \n",
      " 9   married              10000 non-null  float64\n",
      " 10  children             10000 non-null  float64\n",
      " 11  postal_code          10000 non-null  int64  \n",
      " 12  annual_mileage       10000 non-null  float64\n",
      " 13  vehicle_type         10000 non-null  object \n",
      " 14  speeding_violations  10000 non-null  int64  \n",
      " 15  duis                 10000 non-null  int64  \n",
      " 16  past_accidents       10000 non-null  int64  \n",
      " 17  outcome              10000 non-null  float64\n",
      "dtypes: float64(6), int64(7), object(5)\n",
      "memory usage: 1.4+ MB\n"
     ]
    },
    {
     "name": "stderr",
     "output_type": "stream",
     "text": [
      "C:\\Users\\Administrator\\AppData\\Local\\Temp\\ipykernel_17308\\2884870425.py:3: FutureWarning: A value is trying to be set on a copy of a DataFrame or Series through chained assignment using an inplace method.\n",
      "The behavior will change in pandas 3.0. This inplace method will never work because the intermediate object on which we are setting values always behaves as a copy.\n",
      "\n",
      "For example, when doing 'df[col].method(value, inplace=True)', try using 'df.method({col: value}, inplace=True)' or df[col] = df[col].method(value) instead, to perform the operation inplace on the original object.\n",
      "\n",
      "\n",
      "  car_insurance[\"credit_score\"].fillna(car_insurance[\"credit_score\"].median(), inplace=True)\n",
      "C:\\Users\\Administrator\\AppData\\Local\\Temp\\ipykernel_17308\\2884870425.py:5: FutureWarning: A value is trying to be set on a copy of a DataFrame or Series through chained assignment using an inplace method.\n",
      "The behavior will change in pandas 3.0. This inplace method will never work because the intermediate object on which we are setting values always behaves as a copy.\n",
      "\n",
      "For example, when doing 'df[col].method(value, inplace=True)', try using 'df.method({col: value}, inplace=True)' or df[col] = df[col].method(value) instead, to perform the operation inplace on the original object.\n",
      "\n",
      "\n",
      "  car_insurance[\"annual_mileage\"].fillna(car_insurance[\"annual_mileage\"].median(), inplace=True)\n"
     ]
    }
   ],
   "source": [
    "car_insurance.isna().sum()\n",
    "# Fill missing values in 'credit_score' with the median\n",
    "car_insurance[\"credit_score\"].fillna(car_insurance[\"credit_score\"].median(), inplace=True)\n",
    "# Fill missing values in 'annual_mileage' with the median\n",
    "car_insurance[\"annual_mileage\"].fillna(car_insurance[\"annual_mileage\"].median(), inplace=True)\n",
    "# Verify that there are no missing values\n",
    "car_insurance.info()"
   ]
  },
  {
   "cell_type": "markdown",
   "id": "7470b60c",
   "metadata": {
    "papermill": {
     "duration": 0.004107,
     "end_time": "2024-08-10T22:55:43.873812",
     "exception": false,
     "start_time": "2024-08-10T22:55:43.869705",
     "status": "completed"
    },
    "tags": []
   },
   "source": [
    "3-Preparing for modeling\n",
    "Create variables for modeling and storing the results."
   ]
  },
  {
   "cell_type": "code",
   "execution_count": 5,
   "id": "e7de24e6",
   "metadata": {
    "papermill": {
     "duration": 0.018784,
     "end_time": "2024-08-10T22:55:43.897058",
     "exception": false,
     "start_time": "2024-08-10T22:55:43.878274",
     "status": "completed"
    },
    "tags": []
   },
   "outputs": [],
   "source": [
    "#Preparing for modeling\n",
    "#Creating a list to store the models\n",
    "models = []\n",
    "#Storing the features as a variable\n",
    "#Create a variable called features, containing all columns except for \"outcome\" and \"id\".\n",
    "features = car_insurance.drop(columns=['id', 'outcome']).columns\n"
   ]
  },
  {
   "cell_type": "markdown",
   "id": "9ae2625a",
   "metadata": {
    "papermill": {
     "duration": 0.004123,
     "end_time": "2024-08-10T22:55:43.905592",
     "exception": false,
     "start_time": "2024-08-10T22:55:43.901469",
     "status": "completed"
    },
    "tags": []
   },
   "source": [
    "4-Building and storing the models\n",
    "Build one model per feature and save the results to a list."
   ]
  },
  {
   "cell_type": "code",
   "execution_count": 6,
   "id": "236027a2",
   "metadata": {
    "papermill": {
     "duration": 1.0739,
     "end_time": "2024-08-10T22:55:44.983955",
     "exception": false,
     "start_time": "2024-08-10T22:55:43.910055",
     "status": "completed"
    },
    "tags": []
   },
   "outputs": [
    {
     "name": "stdout",
     "output_type": "stream",
     "text": [
      "Optimization terminated successfully.\n",
      "         Current function value: 0.511794\n",
      "         Iterations 6\n",
      "Optimization terminated successfully.\n",
      "         Current function value: 0.615951\n",
      "         Iterations 5\n",
      "Optimization terminated successfully.\n",
      "         Current function value: 0.467092\n",
      "         Iterations 8\n",
      "Optimization terminated successfully.\n",
      "         Current function value: 0.603742\n",
      "         Iterations 5\n",
      "Optimization terminated successfully.\n",
      "         Current function value: 0.531499\n",
      "         Iterations 6\n",
      "Optimization terminated successfully.\n",
      "         Current function value: 0.572649\n",
      "         Iterations 5\n",
      "Optimization terminated successfully.\n",
      "         Current function value: 0.552412\n",
      "         Iterations 5\n",
      "Optimization terminated successfully.\n",
      "         Current function value: 0.572668\n",
      "         Iterations 6\n",
      "Optimization terminated successfully.\n",
      "         Current function value: 0.586659\n",
      "         Iterations 5\n",
      "Optimization terminated successfully.\n",
      "         Current function value: 0.595431\n",
      "         Iterations 5\n",
      "Optimization terminated successfully.\n",
      "         Current function value: 0.617345\n",
      "         Iterations 5\n",
      "Optimization terminated successfully.\n",
      "         Current function value: 0.605605\n",
      "         Iterations 5\n",
      "Optimization terminated successfully.\n",
      "         Current function value: 0.621700\n",
      "         Iterations 5\n",
      "Optimization terminated successfully.\n",
      "         Current function value: 0.558922\n",
      "         Iterations 7\n",
      "Optimization terminated successfully.\n",
      "         Current function value: 0.598699\n",
      "         Iterations 6\n",
      "Optimization terminated successfully.\n",
      "         Current function value: 0.549220\n",
      "         Iterations 7\n"
     ]
    }
   ],
   "source": [
    "#Building and storing the models\n",
    "\n",
    "#Build one model per feature and save the results to a list.\n",
    "from statsmodels.formula.api import logit\n",
    "from sklearn.metrics import confusion_matrix, accuracy_score\n",
    "# Loop through features\n",
    "for col in features:\n",
    "    # Create a model\n",
    "    model = logit(f\"outcome ~ {col}\", data=car_insurance).fit()\n",
    "    # Add each model to the models list\n",
    "    models.append(model)"
   ]
  },
  {
   "cell_type": "markdown",
   "id": "5ace94e2",
   "metadata": {
    "papermill": {
     "duration": 0.007559,
     "end_time": "2024-08-10T22:55:44.998986",
     "exception": false,
     "start_time": "2024-08-10T22:55:44.991427",
     "status": "completed"
    },
    "tags": []
   },
   "source": [
    "5-Measuring performance\n",
    "Calculate the accuracy of each model."
   ]
  },
  {
   "cell_type": "code",
   "execution_count": 7,
   "id": "b59aad9f",
   "metadata": {
    "papermill": {
     "duration": 0.045458,
     "end_time": "2024-08-10T22:55:45.051829",
     "exception": false,
     "start_time": "2024-08-10T22:55:45.006371",
     "status": "completed"
    },
    "tags": []
   },
   "outputs": [],
   "source": [
    "# Empty list to store accuracies\n",
    "accuracies = []\n",
    "\n",
    "# Loop through models\n",
    "for feature in range(0, len(models)):\n",
    "    # Compute the confusion matrix\n",
    "    conf_matrix = models[feature].pred_table()\n",
    "    # True negatives\n",
    "    tn = conf_matrix[0,0]\n",
    "    # True positives\n",
    "    tp = conf_matrix[1,1]\n",
    "    # False negatives\n",
    "    fn = conf_matrix[1,0]\n",
    "    # False positives\n",
    "    fp = conf_matrix[0,1]\n",
    "    # Compute accuracy\n",
    "    acc = (tn + tp) / (tn + fn + fp + tp)\n",
    "    accuracies.append(acc)"
   ]
  },
  {
   "cell_type": "markdown",
   "id": "b814fa05",
   "metadata": {
    "papermill": {
     "duration": 0.006997,
     "end_time": "2024-08-10T22:55:45.066443",
     "exception": false,
     "start_time": "2024-08-10T22:55:45.059446",
     "status": "completed"
    },
    "tags": []
   },
   "source": [
    "6- Finding the best performing model\n",
    "Locate which model has the highest accuracy score."
   ]
  },
  {
   "cell_type": "code",
   "execution_count": 8,
   "id": "959fb1e4",
   "metadata": {
    "papermill": {
     "duration": 0.025426,
     "end_time": "2024-08-10T22:55:45.099266",
     "exception": false,
     "start_time": "2024-08-10T22:55:45.073840",
     "status": "completed"
    },
    "tags": []
   },
   "outputs": [
    {
     "name": "stdout",
     "output_type": "stream",
     "text": [
      "         best_feature  best_accuracy\n",
      "0  driving_experience         0.7771\n"
     ]
    }
   ],
   "source": [
    "# Find the feature with the largest accuracy\n",
    "best_feature = features[accuracies.index(max(accuracies))]\n",
    "\n",
    "# Create best_feature_df\n",
    "best_feature_df = pd.DataFrame({\"best_feature\": best_feature,\n",
    "                                \"best_accuracy\": max(accuracies)},\n",
    "                                index=[0])\n",
    "print(best_feature_df)"
   ]
  },
  {
   "cell_type": "code",
   "execution_count": null,
   "id": "46ffa034-336f-4e91-a747-413160bec055",
   "metadata": {},
   "outputs": [],
   "source": []
  }
 ],
 "metadata": {
  "kaggle": {
   "accelerator": "none",
   "dataSources": [
    {
     "datasetId": 5524375,
     "sourceId": 9146038,
     "sourceType": "datasetVersion"
    }
   ],
   "dockerImageVersionId": 30746,
   "isGpuEnabled": false,
   "isInternetEnabled": true,
   "language": "python",
   "sourceType": "notebook"
  },
  "kernelspec": {
   "display_name": "Python 3 (ipykernel)",
   "language": "python",
   "name": "python3"
  },
  "language_info": {
   "codemirror_mode": {
    "name": "ipython",
    "version": 3
   },
   "file_extension": ".py",
   "mimetype": "text/x-python",
   "name": "python",
   "nbconvert_exporter": "python",
   "pygments_lexer": "ipython3",
   "version": "3.12.3"
  },
  "papermill": {
   "default_parameters": {},
   "duration": 7.573655,
   "end_time": "2024-08-10T22:55:45.734147",
   "environment_variables": {},
   "exception": null,
   "input_path": "__notebook__.ipynb",
   "output_path": "__notebook__.ipynb",
   "parameters": {},
   "start_time": "2024-08-10T22:55:38.160492",
   "version": "2.5.0"
  }
 },
 "nbformat": 4,
 "nbformat_minor": 5
}
