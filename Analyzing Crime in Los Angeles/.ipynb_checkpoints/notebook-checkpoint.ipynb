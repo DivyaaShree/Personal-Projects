{
 "cells": [
  {
   "cell_type": "markdown",
   "id": "31ab2131-3049-4d8d-b9dc-d195f72af27a",
   "metadata": {},
   "source": [
    "![Los Angeles skyline](la_skyline.jpg)\n",
    "\n",
    "Los Angeles, California 😎. The City of Angels. Tinseltown. The Entertainment Capital of the World! \n",
    "\n",
    "Known for its warm weather, palm trees, sprawling coastline, and Hollywood, along with producing some of the most iconic films and songs. However, as with any highly populated city, it isn't always glamorous and there can be a large volume of crime. That's where you can help!\n",
    "\n",
    "You have been asked to support the Los Angeles Police Department (LAPD) by analyzing crime data to identify patterns in criminal behavior. They plan to use your insights to allocate resources effectively to tackle various crimes in different areas.\n",
    "\n",
    "## The Data\n",
    "\n",
    "They have provided you with a single dataset to use. A summary and preview are provided below.\n",
    "\n",
    "It is a modified version of the original data, which is publicly available from Los Angeles Open Data.\n",
    "\n",
    "# crimes.csv\n",
    "\n",
    "| Column     | Description              |\n",
    "|------------|--------------------------|\n",
    "| `'DR_NO'` | Division of Records Number: Official file number made up of a 2-digit year, area ID, and 5 digits. |\n",
    "| `'Date Rptd'` | Date reported - MM/DD/YYYY. |\n",
    "| `'DATE OCC'` | Date of occurrence - MM/DD/YYYY. |\n",
    "| `'TIME OCC'` | In 24-hour military time. |\n",
    "| `'AREA NAME'` | The 21 Geographic Areas or Patrol Divisions are also given a name designation that references a landmark or the surrounding community that it is responsible for. For example, the 77th Street Division is located at the intersection of South Broadway and 77th Street, serving neighborhoods in South Los Angeles. |\n",
    "| `'Crm Cd Desc'` | Indicates the crime committed. |\n",
    "| `'Vict Age'` | Victim's age in years. |\n",
    "| `'Vict Sex'` | Victim's sex: `F`: Female, `M`: Male, `X`: Unknown. |\n",
    "| `'Vict Descent'` | Victim's descent:<ul><li>`A` - Other Asian</li><li>`B` - Black</li><li>`C` - Chinese</li><li>`D` - Cambodian</li><li>`F` - Filipino</li><li>`G` - Guamanian</li><li>`H` - Hispanic/Latin/Mexican</li><li>`I` - American Indian/Alaskan Native</li><li>`J` - Japanese</li><li>`K` - Korean</li><li>`L` - Laotian</li><li>`O` - Other</li><li>`P` - Pacific Islander</li><li>`S` - Samoan</li><li>`U` - Hawaiian</li><li>`V` - Vietnamese</li><li>`W` - White</li><li>`X` - Unknown</li><li>`Z` - Asian Indian</li> |\n",
    "| `'Weapon Desc'` | Description of the weapon used (if applicable). |\n",
    "| `'Status Desc'` | Crime status. |\n",
    "| `'LOCATION'` | Street address of the crime. |"
   ]
  },
  {
   "cell_type": "code",
   "execution_count": 1,
   "id": "4ebc3930-1c41-42c9-ac79-a83d6b614185",
   "metadata": {},
   "outputs": [],
   "source": [
    "import py7zr\n",
    "\n",
    "# Path to the .7z file\n",
    "file_path = \"Dataset.7z\"\n",
    "\n",
    "# Extract the archive\n",
    "with py7zr.SevenZipFile(file_path, mode='r') as archive:\n",
    "    archive.extractall(path=\"output_directory\")  # Specify the output folder\n"
   ]
  },
  {
   "cell_type": "code",
   "execution_count": 4,
   "id": "7c6c3c36-5c8b-4cce-8681-95292b8f0861",
   "metadata": {
    "chartConfig": {
     "bar": {
      "hasRoundedCorners": true,
      "stacked": false
     },
     "type": "bar",
     "version": "v1"
    },
    "executionCancelledAt": null,
    "executionTime": 326,
    "lastExecutedAt": 1718680231904,
    "lastExecutedByKernel": "a7af9bb8-5418-420b-8435-7efe6f0e58f7",
    "lastScheduledRunId": null,
    "lastSuccessfullyExecutedCode": "# Re-run this cell\n# Import required libraries\nimport pandas as pd\nimport numpy as np\nimport matplotlib.pyplot as plt\nimport seaborn as sns\ncrimes = pd.read_csv(\"crimes.csv\", parse_dates=[\"Date Rptd\", \"DATE OCC\"], dtype={\"TIME OCC\": str})\ncrimes.head()",
    "outputsMetadata": {
     "0": {
      "columns": {
       "TIME OCC": {
        "wrap": false
       }
      },
      "height": 211,
      "type": "dataFrame"
     }
    },
    "visualizeDataframe": false
   },
   "outputs": [
    {
     "data": {
      "text/html": [
       "<div>\n",
       "<style scoped>\n",
       "    .dataframe tbody tr th:only-of-type {\n",
       "        vertical-align: middle;\n",
       "    }\n",
       "\n",
       "    .dataframe tbody tr th {\n",
       "        vertical-align: top;\n",
       "    }\n",
       "\n",
       "    .dataframe thead th {\n",
       "        text-align: right;\n",
       "    }\n",
       "</style>\n",
       "<table border=\"1\" class=\"dataframe\">\n",
       "  <thead>\n",
       "    <tr style=\"text-align: right;\">\n",
       "      <th></th>\n",
       "      <th>DR_NO</th>\n",
       "      <th>Date Rptd</th>\n",
       "      <th>DATE OCC</th>\n",
       "      <th>TIME OCC</th>\n",
       "      <th>AREA NAME</th>\n",
       "      <th>Crm Cd Desc</th>\n",
       "      <th>Vict Age</th>\n",
       "      <th>Vict Sex</th>\n",
       "      <th>Vict Descent</th>\n",
       "      <th>Weapon Desc</th>\n",
       "      <th>Status Desc</th>\n",
       "      <th>LOCATION</th>\n",
       "    </tr>\n",
       "  </thead>\n",
       "  <tbody>\n",
       "    <tr>\n",
       "      <th>0</th>\n",
       "      <td>220314085</td>\n",
       "      <td>2022-07-22</td>\n",
       "      <td>2020-05-12</td>\n",
       "      <td>1110</td>\n",
       "      <td>Southwest</td>\n",
       "      <td>THEFT OF IDENTITY</td>\n",
       "      <td>27</td>\n",
       "      <td>F</td>\n",
       "      <td>B</td>\n",
       "      <td>NaN</td>\n",
       "      <td>Invest Cont</td>\n",
       "      <td>2500 S  SYCAMORE                     AV</td>\n",
       "    </tr>\n",
       "    <tr>\n",
       "      <th>1</th>\n",
       "      <td>222013040</td>\n",
       "      <td>2022-08-06</td>\n",
       "      <td>2020-06-04</td>\n",
       "      <td>1620</td>\n",
       "      <td>Olympic</td>\n",
       "      <td>THEFT OF IDENTITY</td>\n",
       "      <td>60</td>\n",
       "      <td>M</td>\n",
       "      <td>H</td>\n",
       "      <td>NaN</td>\n",
       "      <td>Invest Cont</td>\n",
       "      <td>3300    SAN MARINO                   ST</td>\n",
       "    </tr>\n",
       "    <tr>\n",
       "      <th>2</th>\n",
       "      <td>220614831</td>\n",
       "      <td>2022-08-18</td>\n",
       "      <td>2020-08-17</td>\n",
       "      <td>1200</td>\n",
       "      <td>Hollywood</td>\n",
       "      <td>THEFT OF IDENTITY</td>\n",
       "      <td>28</td>\n",
       "      <td>M</td>\n",
       "      <td>H</td>\n",
       "      <td>NaN</td>\n",
       "      <td>Invest Cont</td>\n",
       "      <td>1900    TRANSIENT</td>\n",
       "    </tr>\n",
       "    <tr>\n",
       "      <th>3</th>\n",
       "      <td>231207725</td>\n",
       "      <td>2023-02-27</td>\n",
       "      <td>2020-01-27</td>\n",
       "      <td>0635</td>\n",
       "      <td>77th Street</td>\n",
       "      <td>THEFT OF IDENTITY</td>\n",
       "      <td>37</td>\n",
       "      <td>M</td>\n",
       "      <td>H</td>\n",
       "      <td>NaN</td>\n",
       "      <td>Invest Cont</td>\n",
       "      <td>6200    4TH                          AV</td>\n",
       "    </tr>\n",
       "    <tr>\n",
       "      <th>4</th>\n",
       "      <td>220213256</td>\n",
       "      <td>2022-07-14</td>\n",
       "      <td>2020-07-14</td>\n",
       "      <td>0900</td>\n",
       "      <td>Rampart</td>\n",
       "      <td>THEFT OF IDENTITY</td>\n",
       "      <td>79</td>\n",
       "      <td>M</td>\n",
       "      <td>B</td>\n",
       "      <td>NaN</td>\n",
       "      <td>Invest Cont</td>\n",
       "      <td>1200 W  7TH                          ST</td>\n",
       "    </tr>\n",
       "  </tbody>\n",
       "</table>\n",
       "</div>"
      ],
      "text/plain": [
       "       DR_NO  Date Rptd   DATE OCC TIME OCC    AREA NAME        Crm Cd Desc  \\\n",
       "0  220314085 2022-07-22 2020-05-12     1110    Southwest  THEFT OF IDENTITY   \n",
       "1  222013040 2022-08-06 2020-06-04     1620      Olympic  THEFT OF IDENTITY   \n",
       "2  220614831 2022-08-18 2020-08-17     1200    Hollywood  THEFT OF IDENTITY   \n",
       "3  231207725 2023-02-27 2020-01-27     0635  77th Street  THEFT OF IDENTITY   \n",
       "4  220213256 2022-07-14 2020-07-14     0900      Rampart  THEFT OF IDENTITY   \n",
       "\n",
       "   Vict Age Vict Sex Vict Descent Weapon Desc  Status Desc  \\\n",
       "0        27        F            B         NaN  Invest Cont   \n",
       "1        60        M            H         NaN  Invest Cont   \n",
       "2        28        M            H         NaN  Invest Cont   \n",
       "3        37        M            H         NaN  Invest Cont   \n",
       "4        79        M            B         NaN  Invest Cont   \n",
       "\n",
       "                                  LOCATION  \n",
       "0  2500 S  SYCAMORE                     AV  \n",
       "1  3300    SAN MARINO                   ST  \n",
       "2                        1900    TRANSIENT  \n",
       "3  6200    4TH                          AV  \n",
       "4  1200 W  7TH                          ST  "
      ]
     },
     "execution_count": 4,
     "metadata": {},
     "output_type": "execute_result"
    }
   ],
   "source": [
    "# Re-run this cell\n",
    "# Import required libraries\n",
    "import pandas as pd\n",
    "import numpy as np\n",
    "import matplotlib.pyplot as plt\n",
    "import seaborn as sns\n",
    "crimes = pd.read_csv(r\"C:\\Users\\Administrator\\Desktop\\Personal Projects\\Analyzing Crime in Los Angeles\\output_directory\\Analyzing Crime in Los Angeles\\crimes.csv\", parse_dates=[\"Date Rptd\", \"DATE OCC\"], dtype={\"TIME OCC\": str})\n",
    "crimes.head()"
   ]
  },
  {
   "cell_type": "code",
   "execution_count": 5,
   "id": "53eada96-447c-46c3-9848-f4ca3de53d06",
   "metadata": {
    "executionCancelledAt": null,
    "executionTime": 46,
    "lastExecutedAt": 1718680231950,
    "lastExecutedByKernel": "a7af9bb8-5418-420b-8435-7efe6f0e58f7",
    "lastScheduledRunId": null,
    "lastSuccessfullyExecutedCode": "import pandas as pd"
   },
   "outputs": [],
   "source": [
    "import pandas as pd"
   ]
  },
  {
   "cell_type": "code",
   "execution_count": 7,
   "id": "0fb56aa6-7415-43e8-94ec-81fb700b0cad",
   "metadata": {
    "executionCancelledAt": null,
    "executionTime": 289,
    "lastExecutedAt": 1718680232240,
    "lastExecutedByKernel": "a7af9bb8-5418-420b-8435-7efe6f0e58f7",
    "lastScheduledRunId": null,
    "lastSuccessfullyExecutedCode": "crimes=pd.read_csv('crimes.csv', header=0, sep=\",\")\n\nprint(crimes.shape)\nprint(crimes)",
    "outputsMetadata": {
     "0": {
      "height": 332,
      "type": "stream"
     }
    }
   },
   "outputs": [
    {
     "name": "stdout",
     "output_type": "stream",
     "text": [
      "(185715, 12)\n",
      "            DR_NO  Date Rptd   DATE OCC TIME OCC    AREA NAME  \\\n",
      "0       220314085 2022-07-22 2020-05-12     1110    Southwest   \n",
      "1       222013040 2022-08-06 2020-06-04     1620      Olympic   \n",
      "2       220614831 2022-08-18 2020-08-17     1200    Hollywood   \n",
      "3       231207725 2023-02-27 2020-01-27     0635  77th Street   \n",
      "4       220213256 2022-07-14 2020-07-14     0900      Rampart   \n",
      "...           ...        ...        ...      ...          ...   \n",
      "185710  231510379 2023-05-29 2023-05-25     1100  N Hollywood   \n",
      "185711  231604807 2023-01-27 2023-01-26     1800     Foothill   \n",
      "185712  231606525 2023-03-22 2023-03-22     1000     Foothill   \n",
      "185713  231210064 2023-04-12 2023-04-12     1630  77th Street   \n",
      "185714  230906458 2023-03-05 2023-03-05     0900     Van Nuys   \n",
      "\n",
      "                                              Crm Cd Desc  Vict Age Vict Sex  \\\n",
      "0                                       THEFT OF IDENTITY        27        F   \n",
      "1                                       THEFT OF IDENTITY        60        M   \n",
      "2                                       THEFT OF IDENTITY        28        M   \n",
      "3                                       THEFT OF IDENTITY        37        M   \n",
      "4                                       THEFT OF IDENTITY        79        M   \n",
      "...                                                   ...       ...      ...   \n",
      "185710                                 BUNCO, GRAND THEFT        25        M   \n",
      "185711  VANDALISM - FELONY ($400 & OVER, ALL CHURCH VA...        23        M   \n",
      "185712     ASSAULT WITH DEADLY WEAPON, AGGRAVATED ASSAULT        25        F   \n",
      "185713     ASSAULT WITH DEADLY WEAPON, AGGRAVATED ASSAULT        29        M   \n",
      "185714           VANDALISM - MISDEAMEANOR ($399 OR UNDER)        53        F   \n",
      "\n",
      "       Vict Descent                                     Weapon Desc  \\\n",
      "0                 B                                             NaN   \n",
      "1                 H                                             NaN   \n",
      "2                 H                                             NaN   \n",
      "3                 H                                             NaN   \n",
      "4                 B                                             NaN   \n",
      "...             ...                                             ...   \n",
      "185710            W                                             NaN   \n",
      "185711            H                                             NaN   \n",
      "185712            H  STRONG-ARM (HANDS, FIST, FEET OR BODILY FORCE)   \n",
      "185713            B                     UNKNOWN WEAPON/OTHER WEAPON   \n",
      "185714            H                                             NaN   \n",
      "\n",
      "        Status Desc                                  LOCATION  \n",
      "0       Invest Cont   2500 S  SYCAMORE                     AV  \n",
      "1       Invest Cont   3300    SAN MARINO                   ST  \n",
      "2       Invest Cont                         1900    TRANSIENT  \n",
      "3       Invest Cont   6200    4TH                          AV  \n",
      "4       Invest Cont   1200 W  7TH                          ST  \n",
      "...             ...                                       ...  \n",
      "185710  Invest Cont   5300    DENNY                        AV  \n",
      "185711  Invest Cont  12500    BRANFORD                     ST  \n",
      "185712  Invest Cont  12800    FILMORE                      ST  \n",
      "185713  Invest Cont   6100 S  VERMONT                      AV  \n",
      "185714  Invest Cont  14500    HARTLAND                     ST  \n",
      "\n",
      "[185715 rows x 12 columns]\n"
     ]
    }
   ],
   "source": [
    "# crimes=pd.read_csv('crimes.csv', header=0, sep=\",\")\n",
    "\n",
    "print(crimes.shape)\n",
    "print(crimes)"
   ]
  },
  {
   "cell_type": "code",
   "execution_count": 8,
   "id": "3c0e6c5f-3ea3-44db-bc6a-80245bdff69b",
   "metadata": {
    "executionCancelledAt": null,
    "executionTime": 207,
    "lastExecutedAt": 1718680232447,
    "lastExecutedByKernel": "a7af9bb8-5418-420b-8435-7efe6f0e58f7",
    "lastScheduledRunId": null,
    "lastSuccessfullyExecutedCode": "print(crimes.info())",
    "outputsMetadata": {
     "0": {
      "height": 437,
      "type": "stream"
     }
    }
   },
   "outputs": [
    {
     "name": "stdout",
     "output_type": "stream",
     "text": [
      "<class 'pandas.core.frame.DataFrame'>\n",
      "RangeIndex: 185715 entries, 0 to 185714\n",
      "Data columns (total 12 columns):\n",
      " #   Column        Non-Null Count   Dtype         \n",
      "---  ------        --------------   -----         \n",
      " 0   DR_NO         185715 non-null  int64         \n",
      " 1   Date Rptd     185715 non-null  datetime64[ns]\n",
      " 2   DATE OCC      185715 non-null  datetime64[ns]\n",
      " 3   TIME OCC      185715 non-null  object        \n",
      " 4   AREA NAME     185715 non-null  object        \n",
      " 5   Crm Cd Desc   185715 non-null  object        \n",
      " 6   Vict Age      185715 non-null  int64         \n",
      " 7   Vict Sex      185704 non-null  object        \n",
      " 8   Vict Descent  185705 non-null  object        \n",
      " 9   Weapon Desc   73502 non-null   object        \n",
      " 10  Status Desc   185715 non-null  object        \n",
      " 11  LOCATION      185715 non-null  object        \n",
      "dtypes: datetime64[ns](2), int64(2), object(8)\n",
      "memory usage: 17.0+ MB\n",
      "None\n"
     ]
    }
   ],
   "source": [
    "print(crimes.info())"
   ]
  },
  {
   "cell_type": "markdown",
   "id": "cce978f5-4361-42df-b6b7-755cd07255b3",
   "metadata": {},
   "source": [
    "1. Highest Freq Hr: ```peak_crime_hour```\n",
    "2. HF Night crime Area: ```peak_night_crime_location```\n",
    "3. Crime count w/ age grps: ```victim_ages```"
   ]
  },
  {
   "cell_type": "markdown",
   "id": "151f3758-84aa-471d-a75d-f8b5ceab3f52",
   "metadata": {},
   "source": [
    "## Task 1\n",
    "# Highest Freq Crime Hr: `peak_crime_hour`"
   ]
  },
  {
   "cell_type": "markdown",
   "id": "41a6b94c-16b6-4695-94b8-0e9cda5ba30e",
   "metadata": {
    "collapsed": false,
    "jupyter": {
     "outputs_hidden": false
    }
   },
   "source": [
    "filter + add count"
   ]
  },
  {
   "cell_type": "code",
   "execution_count": 9,
   "id": "3926b667-e60e-4f7a-9f42-2663bf38a17e",
   "metadata": {
    "executionCancelledAt": null,
    "executionTime": 48,
    "jupyter": {
     "source_hidden": true
    },
    "lastExecutedAt": 1718680232495,
    "lastExecutedByKernel": "a7af9bb8-5418-420b-8435-7efe6f0e58f7",
    "lastScheduledRunId": null,
    "lastSuccessfullyExecutedCode": "print(crimes['TIME OCC'])"
   },
   "outputs": [
    {
     "name": "stdout",
     "output_type": "stream",
     "text": [
      "0         1110\n",
      "1         1620\n",
      "2         1200\n",
      "3         0635\n",
      "4         0900\n",
      "          ... \n",
      "185710    1100\n",
      "185711    1800\n",
      "185712    1000\n",
      "185713    1630\n",
      "185714    0900\n",
      "Name: TIME OCC, Length: 185715, dtype: object\n"
     ]
    }
   ],
   "source": [
    "print(crimes['TIME OCC'])"
   ]
  },
  {
   "cell_type": "markdown",
   "id": "c081fad6-0f84-4397-abc9-6a5d84eb8b6d",
   "metadata": {},
   "source": [
    "We can either count entries of data in hourly intervals individually, or modify column 'TIME OCC' into a general hour group format"
   ]
  },
  {
   "cell_type": "markdown",
   "id": "7ed7900d-a65b-4c07-813e-bdfb46df94ac",
   "metadata": {},
   "source": [
    "Taking approach 2: Changing the time column to denote the nearest lower integer \n",
    "- Ideal to start by creating a new data-frame for 'TIME OCC\" column\n",
    "- Further, to simplistically reach the nearest lower integer, dividing by 100 reduces the value to only two significant digits, thereby using casting to achieve the goal"
   ]
  },
  {
   "cell_type": "code",
   "execution_count": 12,
   "id": "141dc852-bba8-41c9-8b0b-6445e4a5dfd3",
   "metadata": {
    "executionCancelledAt": null,
    "executionTime": 14099,
    "lastExecutedAt": 1718680246646,
    "lastExecutedByKernel": "a7af9bb8-5418-420b-8435-7efe6f0e58f7",
    "lastScheduledRunId": null,
    "lastSuccessfullyExecutedCode": "df=crimes[['TIME OCC']]\n#df['TIME OCC']=df['TIME OCC']/100\n\nn=df.shape[0]\nfor i in range(n):\n    df.at[i,'TIME OCC']=int(df.at[i,'TIME OCC']/100)\n\n#print(df)"
   },
   "outputs": [],
   "source": [
    "df=crimes[['TIME OCC']]         \n",
    "\n",
    "n=df.shape[0]\n",
    "for i in range(n):\n",
    "    df.at[i,'TIME OCC']=int(df.at[i,'TIME OCC'])/100\n",
    "\n",
    "#print(df)"
   ]
  },
  {
   "cell_type": "markdown",
   "id": "cf8942a5",
   "metadata": {},
   "source": [
    "Conveniently we can get column values against their number of occurences in a series format through `df['column'].value_counts()`.\n",
    "Here, converting into a dictionary is ideal for further use."
   ]
  },
  {
   "cell_type": "code",
   "execution_count": 13,
   "id": "a52b2486-1cbc-42e6-a5bc-007e2e925459",
   "metadata": {
    "executionCancelledAt": null,
    "executionTime": 50,
    "lastExecutedAt": 1718680246698,
    "lastExecutedByKernel": "a7af9bb8-5418-420b-8435-7efe6f0e58f7",
    "lastScheduledRunId": null,
    "lastSuccessfullyExecutedCode": "hr_grp=df['TIME OCC'].value_counts().to_dict()\n\nprint(hr_grp)",
    "outputsMetadata": {
     "0": {
      "height": 101,
      "type": "stream"
     }
    }
   },
   "outputs": [
    {
     "name": "stdout",
     "output_type": "stream",
     "text": [
      "{12.0: 6462, 18.0: 3991, 20.0: 3769, 17.0: 3754, 0.01: 3587, 19.0: 3406, 22.0: 3394, 21.0: 3338, 16.0: 3238, 15.0: 3165, 8.0: 3143, 10.0: 3025, 14.0: 2990, 11.0: 2798, 23.0: 2756, 13.0: 2657, 9.0: 2508, 1.0: 2159, 18.3: 1936, 17.3: 1896, 19.3: 1833, 20.3: 1816, 22.3: 1774, 15.3: 1764, 2.0: 1757, 21.3: 1755, 6.0: 1746, 16.3: 1720, 7.0: 1697, 12.3: 1598, 14.3: 1598, 11.3: 1553, 10.3: 1511, 13.3: 1508, 3.0: 1477, 23.3: 1471, 8.3: 1285, 9.3: 1265, 0.3: 1169, 4.0: 1098, 5.0: 1061, 7.3: 1000, 1.3: 982, 2.3: 811, 6.3: 790, 3.3: 657, 0.05: 652, 5.3: 619, 4.3: 590, 11.45: 566, 12.15: 555, 17.45: 553, 16.45: 552, 19.45: 550, 18.45: 547, 12.45: 541, 15.2: 530, 15.45: 526, 15.15: 504, 16.15: 495, 13.45: 492, 10.45: 490, 17.15: 486, 20.45: 485, 14.45: 485, 20.15: 480, 18.15: 473, 19.15: 464, 13.15: 464, 11.15: 461, 14.2: 460, 12.5: 459, 17.2: 456, 21.45: 455, 14.15: 453, 16.2: 450, 17.5: 444, 18.4: 441, 9.45: 441, 21.15: 439, 13.2: 438, 0.1: 438, 12.2: 438, 10.15: 433, 15.5: 432, 17.4: 432, 22.15: 431, 11.2: 428, 23.45: 425, 13.5: 424, 15.4: 419, 11.5: 418, 12.4: 416, 14.4: 416, 22.45: 410, 23.5: 409, 11.4: 408, 13.4: 407, 19.2: 405, 18.2: 401, 20.4: 399, 19.5: 397, 20.2: 397, 12.1: 395, 0.15: 394, 9.15: 393, 14.5: 389, 21.2: 389, 16.5: 389, 18.5: 387, 10.2: 382, 8.45: 382, 21.5: 381, 22.2: 376, 19.4: 373, 16.4: 367, 8.15: 362, 22.4: 357, 21.4: 356, 10.5: 356, 23.15: 350, 16.1: 350, 20.1: 350, 15.1: 347, 7.45: 338, 22.5: 337, 10.4: 334, 9.5: 333, 8.2: 331, 23.2: 327, 9.4: 327, 20.5: 326, 17.1: 322, 18.1: 317, 23.4: 316, 13.1: 315, 14.1: 315, 9.2: 314, 19.1: 310, 12.05: 310, 11.1: 309, 7.15: 308, 8.4: 308, 8.5: 306, 0.2: 304, 0.45: 301, 22.1: 297, 1.2: 294, 1.15: 287, 21.1: 276, 10.1: 276, 6.45: 261, 1.45: 256, 12.25: 255, 9.1: 251, 12.35: 251, 14.25: 250, 7.5: 247, 0.4: 246, 1.1: 241, 13.25: 240, 1.5: 237, 1.4: 233, 7.2: 230, 23.1: 228, 7.4: 228, 11.55: 228, 6.15: 227, 0.5: 227, 17.25: 224, 10.25: 223, 2.15: 222, 14.35: 222, 2.2: 222, 6.2: 221, 11.25: 220, 16.25: 219, 18.35: 218, 10.35: 217, 14.05: 214, 15.25: 214, 8.1: 214, 6.5: 214, 15.35: 213, 17.35: 213, 12.55: 212, 2.45: 210, 18.25: 207, 2.4: 207, 3.45: 205, 13.05: 205, 13.55: 202, 20.35: 202, 13.35: 200, 20.25: 200, 11.35: 199, 3.15: 197, 19.25: 196, 16.05: 195, 20.05: 191, 2.1: 190, 15.05: 190, 16.35: 190, 6.4: 189, 16.55: 189, 19.35: 189, 10.55: 187, 2.5: 187, 23.55: 185, 21.25: 184, 17.55: 183, 11.05: 183, 17.05: 182, 22.35: 182, 4.45: 179, 14.55: 177, 4.2: 177, 18.55: 177, 10.05: 175, 19.55: 175, 7.1: 173, 15.55: 172, 3.2: 168, 21.35: 168, 9.55: 167, 22.25: 166, 21.55: 166, 5.15: 165, 20.55: 165, 5.45: 163, 21.05: 161, 9.35: 159, 6.1: 158, 3.5: 156, 19.05: 155, 12.01: 155, 9.05: 153, 8.05: 151, 18.05: 150, 9.25: 150, 8.25: 149, 3.4: 149, 8.35: 149, 22.05: 146, 22.55: 146, 4.15: 146, 8.55: 140, 5.4: 139, 0.25: 136, 1.35: 136, 4.5: 135, 23.25: 132, 7.35: 132, 3.1: 131, 5.2: 130, 0.35: 130, 5.1: 129, 23.35: 128, 6.05: 127, 1.05: 126, 7.25: 123, 4.4: 123, 5.5: 122, 4.1: 117, 1.25: 117, 23.59: 115, 2.25: 114, 6.35: 111, 6.55: 111, 7.55: 110, 23.05: 109, 2.35: 108, 6.25: 107, 0.55: 100, 1.55: 99, 2.05: 97, 7.05: 91, 12.02: 89, 12.03: 87, 0.02: 83, 3.25: 82, 3.05: 82, 4.25: 82, 12.04: 75, 3.35: 75, 4.55: 74, 0.03: 73, 5.35: 71, 2.55: 69, 3.55: 67, 6.03: 67, 5.25: 64, 4.35: 60, 4.05: 60, 12.06: 58, 5.55: 57, 6.01: 57, 6.02: 57, 12.07: 57, 6.06: 57, 5.05: 56, 6.08: 56, 11.59: 56, 12.12: 55, 0.04: 55, 0.06: 53, 12.08: 52, 12.18: 51, 6.04: 48, 0.07: 48, 12.13: 46, 0.09: 46, 6.12: 44, 6.13: 42, 12.09: 42, 6.14: 41, 12.14: 40, 14.12: 39, 20.22: 39, 12.11: 39, 6.11: 38, 12.22: 38, 6.18: 37, 0.12: 37, 6.07: 37, 11.11: 36, 12.19: 36, 12.21: 35, 12.16: 34, 12.17: 33, 6.09: 33, 12.36: 33, 12.33: 33, 0.08: 32, 20.23: 32, 14.08: 32, 12.42: 31, 12.23: 31, 12.24: 31, 12.26: 31, 0.13: 31, 6.22: 31, 1.01: 31, 15.24: 30, 16.18: 30, 13.07: 29, 6.29: 29, 6.17: 29, 6.43: 29, 12.47: 29, 11.08: 29, 12.37: 29, 12.38: 28, 6.26: 28, 15.47: 28, 12.52: 28, 6.21: 28, 0.11: 28, 18.27: 28, 13.44: 28, 19.52: 28, 11.36: 28, 10.23: 27, 17.18: 27, 11.34: 27, 6.37: 27, 18.18: 27, 11.17: 27, 11.48: 27, 18.48: 27, 13.08: 27, 6.19: 27, 6.16: 27, 17.23: 26, 12.51: 26, 18.22: 26, 17.44: 26, 11.04: 26, 10.02: 26, 20.08: 26, 0.21: 26, 15.23: 26, 10.07: 26, 13.13: 26, 16.38: 26, 12.48: 26, 15.27: 26, 15.06: 26, 14.02: 26, 7.22: 26, 12.56: 25, 12.29: 25, 16.03: 25, 7.07: 25, 12.54: 25, 7.09: 25, 10.18: 25, 12.34: 25, 11.18: 25, 6.34: 25, 14.42: 25, 13.12: 25, 14.48: 25, 16.22: 25, 12.57: 25, 11.47: 25, 19.22: 25, 18.04: 25, 11.37: 24, 18.43: 24, 17.19: 24, 10.11: 24, 6.41: 24, 14.17: 24, 13.53: 24, 10.53: 24, 14.14: 24, 15.39: 24, 10.08: 24, 22.22: 24, 13.48: 24, 14.38: 24, 1.02: 24, 11.44: 24, 12.28: 24, 13.28: 24, 16.23: 24, 14.57: 24, 18.01: 24, 10.43: 24, 20.48: 24, 13.47: 24, 15.38: 23, 21.17: 23, 17.13: 23, 0.14: 23, 6.24: 23, 15.43: 23, 7.23: 23, 15.33: 23, 13.23: 23, 8.23: 23, 18.13: 23, 6.36: 23, 15.08: 23, 20.13: 23, 15.13: 23, 13.37: 23, 8.12: 23, 23.24: 23, 7.01: 23, 11.02: 23, 12.53: 23, 19.37: 23, 12.49: 23, 14.27: 23, 18.34: 23, 21.08: 23, 11.52: 23, 11.26: 23, 13.21: 23, 19.36: 23, 14.04: 23, 16.52: 23, 11.57: 23, 15.32: 23, 19.41: 22, 19.16: 22, 11.19: 22, 6.42: 22, 11.06: 22, 13.18: 22, 0.26: 22, 15.44: 22, 7.17: 22, 16.42: 22, 18.47: 22, 10.48: 22, 20.17: 22, 17.11: 22, 8.02: 22, 15.22: 22, 15.16: 22, 14.58: 22, 13.43: 22, 11.33: 22, 15.58: 22, 10.52: 22, 13.26: 22, 14.56: 22, 10.17: 22, 16.01: 22, 15.03: 22, 7.32: 22, 9.17: 22, 16.08: 22, 14.52: 22, 19.12: 22, 6.54: 21, 1.31: 21, 6.33: 21, 11.56: 21, 18.11: 21, 0.23: 21, 19.49: 21, 10.42: 21, 16.17: 21, 18.31: 21, 6.23: 21, 11.54: 21, 18.33: 21, 11.58: 21, 14.24: 21, 6.53: 21, 7.26: 21, 19.58: 21, 14.18: 21, 6.38: 21, 20.16: 21, 19.23: 21, 13.38: 21, 12.41: 21, 17.47: 21, 12.27: 21, 17.53: 21, 6.47: 21, 17.07: 21, 14.06: 21, 1.22: 21, 15.54: 21, 10.57: 21, 12.59: 21, 14.22: 21, 9.18: 21, 16.24: 21, 12.39: 21, 0.19: 21, 1.14: 20, 20.43: 20, 17.03: 20, 22.12: 20, 17.33: 20, 15.52: 20, 19.17: 20, 13.33: 20, 0.58: 20, 17.28: 20, 14.36: 20, 16.48: 20, 14.23: 20, 12.43: 20, 1.18: 20, 12.44: 20, 11.51: 20, 20.33: 20, 16.27: 20, 15.28: 20, 11.42: 20, 15.37: 20, 6.28: 20, 13.58: 20, 6.39: 20, 9.56: 20, 11.12: 20, 17.02: 20, 2.34: 20, 20.34: 20, 18.16: 20, 11.32: 20, 3.48: 20, 16.57: 20, 15.36: 20, 18.38: 20, 15.34: 20, 19.11: 20, 14.44: 20, 11.43: 20, 13.04: 20, 15.17: 20, 13.24: 20, 11.38: 20, 16.51: 20, 14.21: 20, 16.37: 20, 18.03: 20, 10.09: 20, 15.12: 20, 15.07: 20, 15.11: 20, 20.21: 20, 19.54: 20, 15.53: 20, 13.49: 20, 21.27: 20, 16.33: 19, 9.43: 19, 0.22: 19, 18.36: 19, 13.22: 19, 18.52: 19, 7.34: 19, 6.32: 19, 17.38: 19, 15.14: 19, 14.19: 19, 1.13: 19, 11.07: 19, 14.01: 19, 0.18: 19, 13.54: 19, 20.18: 19, 12.46: 19, 12.32: 19, 16.26: 19, 12.31: 19, 1.16: 19, 15.31: 19, 6.31: 19, 16.16: 19, 7.43: 19, 11.41: 19, 2.22: 19, 13.17: 19, 10.44: 19, 11.22: 19, 17.01: 19, 8.08: 19, 16.13: 19, 16.34: 19, 13.19: 19, 18.41: 19, 18.56: 19, 1.12: 19, 14.37: 19, 7.12: 19, 19.14: 19, 11.49: 19, 13.03: 19, 2.17: 18, 7.02: 18, 16.29: 18, 2.28: 18, 6.49: 18, 0.38: 18, 17.12: 18, 17.37: 18, 19.27: 18, 10.22: 18, 20.03: 18, 16.53: 18, 6.48: 18, 19.07: 18, 21.47: 18, 17.31: 18, 18.59: 18, 0.53: 18, 0.32: 18, 16.47: 18, 23.53: 18, 17.43: 18, 0.37: 18, 13.27: 18, 21.03: 18, 19.48: 18, 20.01: 18, 17.22: 18, 20.58: 18, 17.26: 18, 17.06: 18, 20.54: 18, 15.09: 18, 13.11: 18, 8.09: 18, 16.58: 18, 17.42: 18, 23.58: 18, 18.28: 18, 20.51: 18, 14.43: 18, 6.44: 18, 11.14: 18, 8.53: 18, 10.24: 18, 16.04: 18, 16.44: 18, 20.38: 18, 10.47: 18, 10.01: 18, 13.16: 18, 16.43: 18, 13.39: 18, 1.23: 18, 19.38: 18, 21.53: 18, 19.39: 18, 8.07: 18, 13.42: 18, 20.24: 18, 10.06: 18, 10.58: 18, 19.42: 18, 18.02: 18, 13.02: 18, 11.16: 18, 14.46: 18, 6.46: 18, 19.56: 18, 11.23: 18, 7.28: 18, 18.49: 17, 15.48: 17, 1.42: 17, 16.39: 17, 9.24: 17, 18.08: 17, 22.02: 17, 20.11: 17, 18.44: 17, 16.54: 17, 18.54: 17, 20.06: 17, 0.47: 17, 10.28: 17, 19.18: 17, 15.21: 17, 14.09: 17, 7.14: 17, 14.47: 17, 1.11: 17, 0.28: 17, 11.24: 17, 7.06: 17, 21.06: 17, 7.39: 17, 22.07: 17, 19.04: 17, 11.28: 17, 19.51: 17, 10.21: 17, 12.58: 17, 16.07: 17, 10.49: 17, 4.22: 17, 7.24: 17, 18.42: 17, 21.38: 17, 15.56: 17, 17.17: 17, 7.08: 17, 11.27: 17, 11.01: 17, 20.57: 17, 10.29: 17, 14.28: 17, 19.21: 17, 10.13: 17, 18.37: 17, 9.33: 17, 2.24: 17, 19.13: 17, 1.09: 17, 9.46: 17, 18.53: 17, 3.01: 17, 17.14: 17, 14.13: 16, 2.33: 16, 18.07: 16, 0.17: 16, 17.29: 16, 8.03: 16, 9.58: 16, 18.17: 16, 5.12: 16, 7.49: 16, 11.03: 16, 22.03: 16, 10.03: 16, 15.04: 16, 14.54: 16, 6.57: 16, 9.42: 16, 16.11: 16, 13.41: 16, 18.46: 16, 20.49: 16, 16.02: 16, 0.24: 16, 0.46: 16, 16.46: 16, 21.14: 16, 18.24: 16, 1.03: 16, 9.44: 16, 18.51: 16, 21.01: 16, 19.44: 16, 20.56: 16, 9.34: 16, 18.09: 16, 17.52: 16, 10.37: 16, 14.29: 16, 19.29: 16, 17.24: 16, 7.04: 16, 2.08: 16, 18.26: 16, 13.29: 16, 8.56: 16, 10.14: 16, 10.51: 16, 23.01: 16, 21.07: 16, 13.57: 16, 23.42: 16, 0.33: 16, 16.56: 16, 18.23: 16, 17.34: 16, 18.58: 16, 13.06: 16, 0.16: 16, 20.04: 16, 1.04: 16, 19.28: 16, 13.36: 16, 19.47: 16, 7.27: 16, 20.42: 16, 4.48: 16, 1.06: 16, 22.37: 16, 17.08: 16, 13.56: 16, 8.21: 16, 16.09: 16, 22.48: 16, 14.16: 15, 10.41: 15, 18.32: 15, 17.36: 15, 9.32: 15, 1.21: 15, 14.34: 15, 16.19: 15, 7.36: 15, 2.49: 15, 15.18: 15, 6.52: 15, 19.31: 15, 1.48: 15, 9.31: 15, 16.14: 15, 21.04: 15, 21.12: 15, 9.12: 15, 9.28: 15, 10.59: 15, 8.26: 15, 16.06: 15, 19.26: 15, 20.14: 15, 10.39: 15, 1.36: 15, 15.57: 15, 9.13: 15, 3.03: 15, 18.21: 15, 21.11: 15, 20.27: 15, 1.44: 15, 3.21: 15, 10.04: 15, 23.13: 15, 16.12: 15, 14.32: 15, 14.39: 15, 8.16: 15, 2.37: 15, 14.53: 15, 11.31: 15, 8.59: 15, 9.53: 15, 19.33: 15, 20.36: 15, 2.54: 15, 13.14: 15, 19.19: 15, 13.32: 15, 10.54: 15, 19.24: 15, 21.24: 15, 17.39: 15, 6.58: 15, 6.59: 15, 21.42: 15, 7.33: 15, 1.34: 15, 4.17: 15, 20.02: 15, 11.21: 15, 17.57: 15, 7.38: 15, 1.49: 15, 9.36: 15, 13.52: 15, 15.41: 15, 3.24: 15, 20.31: 15, 15.49: 15, 13.59: 15, 8.06: 15, 21.46: 15, 19.02: 15, 9.04: 14, 15.26: 14, 8.22: 14, 11.53: 14, 13.01: 14, 8.52: 14, 17.59: 14, 10.32: 14, 0.48: 14, 9.47: 14, 14.11: 14, 7.52: 14, 11.09: 14, 7.29: 14, 17.49: 14, 14.59: 14, 21.51: 14, 23.07: 14, 18.29: 14, 17.54: 14, 21.44: 14, 8.17: 14, 9.27: 14, 2.42: 14, 0.41: 14, 10.12: 14, 23.26: 14, 16.21: 14, 9.52: 14, 19.06: 14, 21.54: 14, 17.32: 14, 6.51: 14, 22.11: 14, 14.07: 14, 1.07: 14, 13.09: 14, 21.22: 14, 1.27: 14, 7.19: 14, 23.23: 14, 6.27: 14, 3.52: 14, 17.51: 14, 20.44: 14, 22.23: 14, 21.34: 14, 1.57: 14, 16.49: 14, 11.39: 14, 21.16: 14, 19.43: 14, 14.03: 14, 2.38: 14, 15.42: 14, 18.57: 14, 8.48: 14, 13.51: 14, 2.14: 14, 2.48: 14, 1.58: 14, 22.08: 14, 0.49: 14, 10.38: 14, 9.22: 14, 8.14: 14, 20.12: 14, 17.09: 14, 16.36: 14, 10.34: 14, 22.17: 14, 5.38: 14, 9.49: 14, 20.37: 14, 19.08: 14, 7.16: 14, 16.59: 13, 7.37: 13, 17.56: 13, 0.36: 13, 2.53: 13, 20.32: 13, 9.48: 13, 19.09: 13, 3.18: 13, 9.23: 13, 22.18: 13, 9.51: 13, 9.08: 13, 8.46: 13, 17.48: 13, 1.47: 13, 8.24: 13, 2.02: 13, 21.36: 13, 18.14: 13, 20.52: 13, 15.51: 13, 3.13: 13, 0.31: 13, 16.32: 13, 21.32: 13, 7.51: 13, 9.21: 13, 11.13: 13, 4.23: 13, 22.16: 13, 23.44: 13, 3.33: 13, 7.18: 13, 19.53: 13, 7.42: 13, 19.46: 13, 22.44: 13, 19.32: 13, 9.38: 13, 21.21: 13, 16.28: 13, 10.27: 13, 9.54: 13, 3.11: 13, 20.47: 13, 2.26: 13, 7.58: 13, 14.26: 13, 5.16: 13, 4.01: 13, 21.33: 13, 3.58: 13, 13.31: 13, 3.23: 13, 18.12: 13, 14.41: 13, 15.46: 13, 1.08: 13, 3.31: 13, 1.17: 13, 3.02: 13, 0.42: 13, 8.29: 13, 9.02: 13, 0.52: 13, 1.29: 13, 5.52: 12, 23.14: 12, 10.16: 12, 21.18: 12, 22.06: 12, 3.37: 12, 7.11: 12, 8.27: 12, 9.37: 12, 0.43: 12, 5.33: 12, 22.58: 12, 8.43: 12, 7.46: 12, 21.43: 12, 22.01: 12, 3.27: 12, 9.11: 12, 3.19: 12, 3.51: 12, 9.01: 12, 18.06: 12, 2.03: 12, 7.31: 12, 9.41: 12, 20.53: 12, 1.19: 12, 7.57: 12, 3.39: 12, 3.12: 12, 20.09: 12, 23.47: 12, 5.22: 12, 0.27: 12, 22.38: 12, 22.13: 12, 21.31: 12, 3.16: 12, 11.29: 12, 17.58: 12, 23.56: 12, 22.27: 12, 22.19: 12, 2.51: 12, 7.41: 12, 1.37: 12, 2.23: 12, 0.39: 12, 8.37: 12, 17.21: 12, 2.18: 12, 4.18: 11, 23.39: 11, 8.13: 11, 5.37: 11, 20.29: 11, 5.13: 11, 21.52: 11, 3.36: 11, 23.29: 11, 22.36: 11, 23.33: 11, 2.07: 11, 8.01: 11, 22.42: 11, 21.41: 11, 7.21: 11, 21.48: 11, 15.02: 11, 20.07: 11, 10.33: 11, 1.51: 11, 21.58: 11, 17.27: 11, 17.04: 11, 10.26: 11, 7.44: 11, 13.46: 11, 22.04: 11, 21.19: 11, 22.39: 11, 4.58: 11, 5.21: 11, 2.31: 11, 15.29: 11, 2.57: 11, 8.49: 11, 10.46: 11, 7.03: 11, 2.01: 11, 21.56: 11, 19.03: 11, 0.59: 11, 23.43: 11, 15.19: 11, 8.58: 11, 1.52: 11, 1.39: 11, 20.46: 11, 10.31: 11, 20.28: 11, 22.24: 11, 17.41: 11, 9.39: 11, 2.12: 10, 20.41: 10, 14.33: 10, 0.57: 10, 3.41: 10, 8.36: 10, 5.27: 10, 21.09: 10, 7.47: 10, 23.04: 10, 17.46: 10, 3.06: 10, 5.03: 10, 23.19: 10, 19.01: 10, 2.11: 10, 1.26: 10, 15.01: 10, 18.19: 10, 21.28: 10, 5.23: 10, 23.02: 10, 13.34: 10, 23.08: 10, 5.19: 10, 4.04: 10, 2.56: 10, 5.48: 10, 5.54: 10, 3.08: 10, 21.39: 10, 11.46: 10, 21.26: 10, 2.13: 10, 4.47: 10, 22.29: 10, 8.18: 10, 22.33: 10, 9.26: 10, 4.51: 10, 4.07: 10, 10.56: 10, 8.57: 10, 8.38: 10, 21.13: 10, 23.38: 10, 8.41: 10, 4.28: 10, 2.04: 10, 5.47: 10, 2.43: 10, 5.26: 10, 17.16: 10, 3.04: 10, 20.59: 10, 4.26: 10, 7.48: 10, 21.37: 10, 0.29: 10, 5.04: 10, 2.44: 10, 3.28: 10, 7.13: 10, 20.26: 10, 4.59: 9, 19.59: 9, 21.59: 9, 23.49: 9, 3.47: 9, 8.11: 9, 5.58: 9, 3.57: 9, 1.46: 9, 20.39: 9, 1.38: 9, 2.58: 9, 4.27: 9, 3.56: 9, 22.14: 9, 5.24: 9, 1.33: 9, 3.26: 9, 14.49: 9, 18.39: 9, 1.43: 9, 23.52: 9, 2.36: 9, 0.56: 9, 22.46: 9, 10.36: 9, 8.31: 9, 4.11: 9, 8.51: 9, 22.52: 9, 9.06: 9, 23.12: 9, 2.06: 9, 4.34: 9, 16.31: 9, 8.39: 9, 4.52: 9, 1.24: 9, 3.59: 9, 23.17: 9, 0.34: 9, 22.47: 9, 8.28: 9, 14.51: 9, 5.02: 9, 20.19: 9, 5.51: 9, 8.34: 9, 8.42: 9, 1.32: 9, 4.38: 8, 5.36: 8, 19.57: 8, 6.56: 8, 3.49: 8, 1.28: 8, 23.28: 8, 8.04: 8, 23.11: 8, 4.13: 8, 23.46: 8, 5.17: 8, 5.56: 8, 8.47: 8, 21.02: 8, 5.18: 8, 22.53: 8, 5.57: 8, 4.56: 8, 23.37: 8, 9.03: 8, 5.43: 8, 5.06: 8, 4.02: 8, 22.31: 8, 5.46: 8, 22.51: 8, 5.01: 8, 23.51: 8, 2.59: 8, 3.54: 8, 3.07: 8, 3.17: 8, 7.54: 8, 4.16: 8, 23.48: 8, 4.54: 8, 9.14: 8, 0.44: 8, 15.59: 8, 21.23: 8, 9.29: 8, 23.27: 8, 8.54: 8, 10.19: 8, 2.41: 8, 23.22: 8, 2.27: 8, 9.19: 7, 22.34: 7, 2.47: 7, 23.09: 7, 1.56: 7, 23.36: 7, 4.41: 7, 23.06: 7, 4.46: 7, 8.44: 7, 4.09: 7, 2.46: 7, 4.53: 7, 8.19: 7, 22.57: 7, 4.43: 7, 5.08: 7, 0.54: 7, 4.39: 7, 14.31: 7, 3.38: 7, 8.32: 7, 3.14: 7, 4.03: 7, 21.49: 7, 0.51: 7, 8.33: 7, 9.57: 7, 4.29: 7, 2.52: 7, 22.26: 7, 23.54: 7, 3.32: 7, 9.09: 7, 2.19: 7, 21.29: 7, 9.59: 7, 22.56: 7, 22.28: 7, 16.41: 7, 1.59: 7, 5.29: 7, 3.22: 7, 23.03: 7, 5.14: 7, 3.46: 7, 4.32: 7, 4.21: 7, 4.06: 7, 7.59: 6, 5.49: 6, 4.24: 6, 22.21: 6, 9.07: 6, 3.34: 6, 5.32: 6, 3.29: 6, 4.31: 6, 4.12: 6, 4.33: 6, 3.44: 6, 23.16: 6, 1.53: 6, 3.53: 6, 3.42: 6, 4.19: 6, 1.41: 6, 3.43: 6, 7.53: 6, 23.21: 6, 4.08: 6, 22.32: 6, 4.44: 6, 23.18: 6, 5.09: 6, 23.34: 5, 23.57: 5, 19.34: 5, 22.41: 5, 9.16: 5, 4.57: 5, 4.42: 5, 23.31: 5, 2.09: 5, 5.53: 5, 4.37: 5, 5.07: 5, 2.32: 5, 22.49: 5, 5.59: 5, 2.16: 5, 4.14: 5, 22.54: 5, 1.54: 5, 22.09: 5, 22.43: 5, 4.49: 5, 5.39: 5, 5.34: 5, 23.41: 5, 2.29: 4, 21.57: 4, 5.44: 4, 3.09: 4, 5.41: 4, 7.56: 4, 2.39: 4, 5.42: 4, 2.21: 4, 4.36: 4, 23.32: 4, 22.59: 3, 5.11: 3, 5.28: 3, 5.31: 3}\n"
     ]
    }
   ],
   "source": [
    "hr_grp=df['TIME OCC'].value_counts().to_dict()\n",
    "\n",
    "print(hr_grp)"
   ]
  },
  {
   "cell_type": "markdown",
   "id": "e5351dbc",
   "metadata": {},
   "source": [
    "The following code block has variable:\n",
    "- l: List of values of the dictionary\n",
    "- i: Index of the maximum value in the dictionary, asessed through l\n",
    "- hr: the hour associated with highest crime frequency, retrived by using i on the list of keys of the dictionary\n",
    "- peak_crime_hour: is assigned to hr"
   ]
  },
  {
   "cell_type": "code",
   "execution_count": 14,
   "id": "0bf59047-b52e-4520-adb4-c9f96ce92ad9",
   "metadata": {
    "executionCancelledAt": null,
    "executionTime": 48,
    "lastExecutedAt": 1718680246747,
    "lastExecutedByKernel": "a7af9bb8-5418-420b-8435-7efe6f0e58f7",
    "lastScheduledRunId": null,
    "lastSuccessfullyExecutedCode": "l=list(hr_grp.values())\ni=l.index(max(l))\nhr=list(hr_grp.keys())[i]\n#hr=int(hr)\n\n\npeak_crime_hour= hr\nprint(peak_crime_hour)",
    "outputsMetadata": {
     "0": {
      "height": 38,
      "type": "stream"
     }
    }
   },
   "outputs": [
    {
     "name": "stdout",
     "output_type": "stream",
     "text": [
      "12.0\n"
     ]
    }
   ],
   "source": [
    "l=list(hr_grp.values())\n",
    "i=l.index(max(l))\n",
    "hr=list(hr_grp.keys())[i]\n",
    "#hr=int(hr)\n",
    "\n",
    "\n",
    "peak_crime_hour= hr\n",
    "print(peak_crime_hour)"
   ]
  },
  {
   "cell_type": "markdown",
   "id": "25be06df-61bb-41c3-81f5-1fda445341d8",
   "metadata": {},
   "source": [
    "## Task 2\n",
    "# HF Night crime Area: `peak_night_crime_location`"
   ]
  },
  {
   "cell_type": "markdown",
   "id": "2cc9951b",
   "metadata": {},
   "source": [
    "Since we have to understand crime frequency in areas as per a time restriction, creating a dataframe of variables 'AREA NAME' & 'TIME OCC' is apt.\n",
    "\n",
    "`df2['TIME OCC']=df['TIME OCC']` is done to ensure that the hourly gap format of timing from Task 1 follows in this Task as well for convenience.\n",
    "\n",
    "Lastly, the data has been filtered based on the time restriction, i.e 2200-0000 & 0000-0400 (10pm to 3:59am)"
   ]
  },
  {
   "cell_type": "code",
   "execution_count": 15,
   "id": "60b1e3f2-6ec0-4ba8-96a2-52603a29dd78",
   "metadata": {
    "executionCancelledAt": null,
    "executionTime": 52,
    "lastExecutedAt": 1718680246851,
    "lastExecutedByKernel": "a7af9bb8-5418-420b-8435-7efe6f0e58f7",
    "lastScheduledRunId": null,
    "lastSuccessfullyExecutedCode": "df2=crimes[['AREA NAME', 'TIME OCC']]\ndf2['TIME OCC']=df['TIME OCC']\n\ndf3=df2[(df2['TIME OCC']>=22)|(df2['TIME OCC']<4)]\nprint(df3)",
    "outputsMetadata": {
     "0": {
      "height": 311,
      "type": "stream"
     }
    }
   },
   "outputs": [
    {
     "name": "stdout",
     "output_type": "stream",
     "text": [
      "          AREA NAME TIME OCC\n",
      "8       77th Street     0.01\n",
      "10       Devonshire     1.55\n",
      "30           Newton     0.01\n",
      "33           Newton    23.05\n",
      "36         Foothill     0.01\n",
      "...             ...      ...\n",
      "185687       Newton     22.0\n",
      "185695  77th Street     23.0\n",
      "185700       Newton    22.03\n",
      "185701     Van Nuys    22.43\n",
      "185704   Devonshire      2.0\n",
      "\n",
      "[39183 rows x 2 columns]\n"
     ]
    },
    {
     "name": "stderr",
     "output_type": "stream",
     "text": [
      "C:\\Users\\Administrator\\AppData\\Local\\Temp\\ipykernel_4928\\2956779204.py:2: SettingWithCopyWarning: \n",
      "A value is trying to be set on a copy of a slice from a DataFrame.\n",
      "Try using .loc[row_indexer,col_indexer] = value instead\n",
      "\n",
      "See the caveats in the documentation: https://pandas.pydata.org/pandas-docs/stable/user_guide/indexing.html#returning-a-view-versus-a-copy\n",
      "  df2['TIME OCC']=df['TIME OCC']\n"
     ]
    }
   ],
   "source": [
    "df2=crimes[['AREA NAME', 'TIME OCC']]\n",
    "df2['TIME OCC']=df['TIME OCC']\n",
    "\n",
    "df3=df2[(df2['TIME OCC']>=22)|(df2['TIME OCC']<4)]\n",
    "print(df3)"
   ]
  },
  {
   "cell_type": "markdown",
   "id": "b98f7f6c",
   "metadata": {},
   "source": [
    "As done in the previous Task, to get a count of number of crimes in each region, `.value_counts().to_dict()` is used. In a similar fashion, the region with maximum crime is obtained."
   ]
  },
  {
   "cell_type": "code",
   "execution_count": 16,
   "id": "27a77010-7be6-4bd7-bba5-d444dfdd334c",
   "metadata": {
    "executionCancelledAt": null,
    "executionTime": 59,
    "lastExecutedAt": 1718680246910,
    "lastExecutedByKernel": "a7af9bb8-5418-420b-8435-7efe6f0e58f7",
    "lastScheduledRunId": null,
    "lastSuccessfullyExecutedCode": "area=df2['AREA NAME'].value_counts().to_dict()\n\n#print(area)\nl=list(area.values())\nmfi=l.index(max(l))\n\nl=list(area.keys())\npeak_night_crime_location=l[mfi]\n#print(area)\n#print(peak_night_crime_location)",
    "outputsMetadata": {
     "0": {
      "height": 143,
      "type": "stream"
     }
    }
   },
   "outputs": [],
   "source": [
    "area=df2['AREA NAME'].value_counts().to_dict()\n",
    "\n",
    "#print(area)\n",
    "l=list(area.values())\n",
    "mfi=l.index(max(l))\n",
    "\n",
    "l=list(area.keys())\n",
    "peak_night_crime_location=l[mfi]\n",
    "#print(area)\n",
    "#print(peak_night_crime_location)"
   ]
  },
  {
   "cell_type": "markdown",
   "id": "9ec2f883-aa52-45de-81ee-fe22836a82dc",
   "metadata": {},
   "source": [
    "## Task 3\n",
    "# Crime count w/ age grps: `victim_ages`"
   ]
  },
  {
   "cell_type": "markdown",
   "id": "cc14450b-c4c8-49fc-9503-711a4b11dbc8",
   "metadata": {},
   "source": [
    "A: dataframe of variable 'Vict Age'\n",
    "l: list of lower limit of age groups\n",
    "\n",
    "In order to get the count of ages satisfying a certain condition, filtering of dataframes can be performed\n",
    "o,k: gives the count of elements in respective dataframes with the help of `.shape[0]`\n",
    "s: String element denoting age range\n"
   ]
  },
  {
   "cell_type": "code",
   "execution_count": 17,
   "id": "bc10c7c5-1a83-4e2b-872e-994fa6445d1b",
   "metadata": {
    "executionCancelledAt": null,
    "executionTime": 54,
    "lastExecutedAt": 1718680246966,
    "lastExecutedByKernel": "a7af9bb8-5418-420b-8435-7efe6f0e58f7",
    "lastScheduledRunId": null,
    "lastSuccessfullyExecutedCode": "A=crimes[['Vict Age']]\n\ndic={}\nl=[0,18,26,35,45,55,65]\nfor i in range(len(l)):\n    if l[i]==65:\n        o=df[(l[i]<=A['Vict Age'])].shape[0]\n        \n        s=str(l[i])+\"+\"\n        \n        dic[s]=o\n        break\n    \n    k=df[(l[i] <= A['Vict Age']) & (A['Vict Age'] <= (l[i+1]-1))].shape[0]\n    \n    s=str(l[i])+'-'+str(l[i+1]-1)\n    dic[s]=k\n\n#print(dic)\n\nvictim_ages=pd.Series(dic)\nprint(victim_ages)",
    "outputsMetadata": {
     "0": {
      "height": 185,
      "type": "stream"
     }
    }
   },
   "outputs": [
    {
     "name": "stdout",
     "output_type": "stream",
     "text": [
      "0-17      4528\n",
      "18-25    28291\n",
      "26-34    47470\n",
      "35-44    42157\n",
      "45-54    28353\n",
      "55-64    20169\n",
      "65+      14747\n",
      "dtype: int64\n"
     ]
    }
   ],
   "source": [
    "A=crimes[['Vict Age']]\n",
    "\n",
    "dic={}\n",
    "l=[0,18,26,35,45,55,65]\n",
    "for i in range(len(l)):\n",
    "    if l[i]==65:\n",
    "        o=df[(l[i]<=A['Vict Age'])].shape[0]\n",
    "        \n",
    "        s=str(l[i])+\"+\"\n",
    "        \n",
    "        dic[s]=o\n",
    "        break\n",
    "    \n",
    "    k=df[(l[i] <= A['Vict Age']) & (A['Vict Age'] <= (l[i+1]-1))].shape[0]\n",
    "    \n",
    "    s=str(l[i])+'-'+str(l[i+1]-1)\n",
    "    dic[s]=k\n",
    "\n",
    "#print(dic)\n",
    "\n",
    "victim_ages=pd.Series(dic)\n",
    "print(victim_ages)"
   ]
  },
  {
   "cell_type": "code",
   "execution_count": null,
   "id": "b29a7841-935d-4402-9fd9-20bdb79feb3d",
   "metadata": {},
   "outputs": [],
   "source": []
  }
 ],
 "metadata": {
  "colab": {
   "name": "Welcome to DataCamp Workspaces.ipynb",
   "provenance": []
  },
  "kernelspec": {
   "display_name": "Python 3 (ipykernel)",
   "language": "python",
   "name": "python3"
  },
  "language_info": {
   "codemirror_mode": {
    "name": "ipython",
    "version": 3
   },
   "file_extension": ".py",
   "mimetype": "text/x-python",
   "name": "python",
   "nbconvert_exporter": "python",
   "pygments_lexer": "ipython3",
   "version": "3.12.3"
  }
 },
 "nbformat": 4,
 "nbformat_minor": 5
}
